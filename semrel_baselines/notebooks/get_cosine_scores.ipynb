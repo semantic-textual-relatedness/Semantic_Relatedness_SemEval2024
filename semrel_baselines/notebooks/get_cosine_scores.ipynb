{
 "cells": [
  {
   "cell_type": "code",
   "execution_count": 1,
   "metadata": {},
   "outputs": [],
   "source": [
    "%load_ext autoreload\n",
    "%autoreload 2"
   ]
  },
  {
   "cell_type": "code",
   "execution_count": 9,
   "metadata": {},
   "outputs": [],
   "source": [
    "from sentence_transformers import (\n",
    "    SentenceTransformer,\n",
    ")\n",
    "import pandas as pd\n",
    "from src.evaluate_bert import get_embeddings\n",
    "from functools import partial\n",
    "from scipy.spatial.distance import cosine\n"
   ]
  },
  {
   "cell_type": "code",
   "execution_count": 4,
   "metadata": {},
   "outputs": [],
   "source": [
    "df_eng = pd.read_csv('semrel_baselines/data/eng/eng_dev.csv')"
   ]
  },
  {
   "cell_type": "code",
   "execution_count": 8,
   "metadata": {},
   "outputs": [],
   "source": [
    "# select those rows where Score ==0.19\n",
    "df_tmp = df_eng[df_eng['Score']==0.19]"
   ]
  },
  {
   "cell_type": "code",
   "execution_count": 10,
   "metadata": {},
   "outputs": [],
   "source": [
    "sentence_1, sentence_2 = df_tmp['Text'].iloc[0].split('\\n')"
   ]
  },
  {
   "cell_type": "code",
   "execution_count": 13,
   "metadata": {},
   "outputs": [
    {
     "name": "stdout",
     "output_type": "stream",
     "text": [
      "Two women standing by a table of vegetables.\n",
      "Two dirt bike rides during a competition.\n"
     ]
    }
   ],
   "source": [
    "print(sentence_1)\n",
    "print(sentence_2)"
   ]
  },
  {
   "cell_type": "code",
   "execution_count": 14,
   "metadata": {},
   "outputs": [],
   "source": [
    "model = SentenceTransformer('sentence-transformers/LaBSE')"
   ]
  },
  {
   "cell_type": "code",
   "execution_count": 20,
   "metadata": {},
   "outputs": [],
   "source": [
    "model_finetuned = SentenceTransformer('semrel_baselines/models/finetuned_labse')"
   ]
  },
  {
   "cell_type": "code",
   "execution_count": 15,
   "metadata": {},
   "outputs": [],
   "source": [
    "embeddings = model.encode([sentence_1, sentence_2])"
   ]
  },
  {
   "cell_type": "code",
   "execution_count": 8,
   "metadata": {},
   "outputs": [
    {
     "ename": "NameError",
     "evalue": "name 'embeddings' is not defined",
     "output_type": "error",
     "traceback": [
      "\u001b[0;31m---------------------------------------------------------------------------\u001b[0m",
      "\u001b[0;31mNameError\u001b[0m                                 Traceback (most recent call last)",
      "Cell \u001b[0;32mIn[8], line 1\u001b[0m\n\u001b[0;32m----> 1\u001b[0m embedding_1, embedding_2 \u001b[38;5;241m=\u001b[39m \u001b[43membeddings\u001b[49m\n\u001b[1;32m      2\u001b[0m \u001b[38;5;66;03m# calculate cosine similarity between two embeddings\u001b[39;00m\n\u001b[1;32m      3\u001b[0m \u001b[38;5;28;01mfrom\u001b[39;00m \u001b[38;5;21;01mscipy\u001b[39;00m\u001b[38;5;21;01m.\u001b[39;00m\u001b[38;5;21;01mspatial\u001b[39;00m\u001b[38;5;21;01m.\u001b[39;00m\u001b[38;5;21;01mdistance\u001b[39;00m \u001b[38;5;28;01mimport\u001b[39;00m cosine\n",
      "\u001b[0;31mNameError\u001b[0m: name 'embeddings' is not defined"
     ]
    }
   ],
   "source": [
    "# calculate cosine similarity between two embeddings"
   ]
  },
  {
   "cell_type": "code",
   "execution_count": 25,
   "metadata": {},
   "outputs": [
    {
     "data": {
      "text/plain": [
       "0.23601487278938293"
      ]
     },
     "execution_count": 25,
     "metadata": {},
     "output_type": "execute_result"
    }
   ],
   "source": [
    "embeddings_finetuned = model_finetuned.encode([sentence_1, sentence_2])\n",
    "embeddings_1_finetuned, embeddings_2_finetuned = embeddings_finetuned\n",
    "1 - cosine(embeddings_1_finetuned, embeddings_2_finetuned)"
   ]
  },
  {
   "cell_type": "code",
   "execution_count": 22,
   "metadata": {},
   "outputs": [],
   "source": [
    "bert_embeddings = get_embeddings(model_name='bert-base-uncased', sentences=[sentence_1, sentence_2])"
   ]
  },
  {
   "cell_type": "code",
   "execution_count": 26,
   "metadata": {},
   "outputs": [
    {
     "data": {
      "text/plain": [
       "0.6278668642044067"
      ]
     },
     "execution_count": 26,
     "metadata": {},
     "output_type": "execute_result"
    }
   ],
   "source": [
    "bert_embedding_1, bert_embedding_2 = bert_embeddings\n",
    "1-cosine(bert_embedding_1, bert_embedding_2)"
   ]
  },
  {
   "cell_type": "code",
   "execution_count": null,
   "metadata": {},
   "outputs": [],
   "source": [
    "# randomly select 2-3 examples from df_eng\n",
    "df_temp = df_eng.sample(n=3)\n"
   ]
  },
  {
   "cell_type": "code",
   "execution_count": 5,
   "metadata": {},
   "outputs": [],
   "source": [
    "def dump_cosine_scores(model_name, model_type, df):\n",
    "    df_fin = pd.DataFrame()\n",
    "    model_func = None\n",
    "    if model_type == \"sbert\":\n",
    "        model_func = SentenceTransformer(model_name)\n",
    "    elif model_type == \"bert\":\n",
    "        model_func = partial(get_embeddings, model_name=model_name)\n",
    "    else:\n",
    "        raise ValueError(\"model_type should be either sbert or bert\")\n",
    "    for index, row in df.iterrows():\n",
    "        sentence_1, sentence_2 = row[\"Text\"].split(\"\\n\")\n",
    "        if model_type == \"bert\":\n",
    "            embeddings = model_func(sentences=[sentence_1, sentence_2])\n",
    "        elif model_type == \"sbert\":\n",
    "            embeddings = model_func.encode([sentence_1, sentence_2])\n",
    "        embedding_1, embedding_2 = embeddings\n",
    "        score = 1 - cosine(embedding_1, embedding_2)\n",
    "        df_tmp = pd.DataFrame(\n",
    "            {\"Text\": row[\"Text\"], \"Score\": row[\"Score\"], \"cosine_similarity\": score},\n",
    "            index=[0],\n",
    "        )\n",
    "        df_fin = pd.concat([df_fin, df_tmp], ignore_index=True)\n",
    "\n",
    "    return df_fin\n",
    "    # df_fin = df_fin.append({'Score': score}, ignore_index=True)"
   ]
  },
  {
   "cell_type": "code",
   "execution_count": 34,
   "metadata": {},
   "outputs": [],
   "source": [
    "df_eng_selected = df_eng.sample(n=10)\n",
    "df_fin_labse = dump_cosine_scores(model_name='sentence-transformers/LaBSE', model_type='sbert', df=df_eng_selected)\n",
    "df_fin_labse_finetuned = dump_cosine_scores(model_name='semrel_baselines/models/finetuned_labse', model_type='sbert', df=df_eng_selected)\n",
    "df_fin_bert = dump_cosine_scores(model_name='bert-base-uncased', model_type='bert', df=df_eng_selected)"
   ]
  },
  {
   "cell_type": "code",
   "execution_count": 37,
   "metadata": {},
   "outputs": [],
   "source": [
    "df_fin_labse.to_csv('semrel_baselines/analysis_files/eng_labse.csv', index=False)\n",
    "df_fin_labse_finetuned.to_csv('semrel_baselines/analysis_files/eng_labse_finetuned.csv', index=False)\n",
    "df_fin_bert.to_csv('semrel_baselines/analysis_files/eng_bert.csv', index=False)"
   ]
  },
  {
   "cell_type": "code",
   "execution_count": 3,
   "metadata": {},
   "outputs": [],
   "source": [
    "def create_analysis_files(df_path, bert_model_name, lang_code):\n",
    "    df = pd.read_csv(df_path)\n",
    "    df_selected = df.sample(n=10)\n",
    "    df_fin_labse = dump_cosine_scores(\n",
    "        model_name=\"sentence-transformers/LaBSE\", model_type=\"sbert\", df=df_selected\n",
    "    )\n",
    "    df_fin_labse_finetuned = dump_cosine_scores(\n",
    "        model_name=\"semrel_baselines/models/finetuned_labse\",\n",
    "        model_type=\"sbert\",\n",
    "        df=df_selected,\n",
    "    )\n",
    "    df_fin_lang_bert = dump_cosine_scores(\n",
    "        model_name=bert_model_name, model_type=\"bert\", df=df_selected\n",
    "    )\n",
    "\n",
    "    df_fin_labse.to_csv(\n",
    "        f\"semrel_baselines/analysis_files/{lang_code}_labse.csv\",\n",
    "        index=False,\n",
    "    )\n",
    "    df_fin_labse_finetuned.to_csv(\n",
    "        f\"semrel_baselines/analysis_files/{lang_code}_labse_finetuned.csv\",\n",
    "        index=False,\n",
    "    )\n",
    "    df_fin_lang_bert.to_csv(\n",
    "        f\"semrel_baselines/analysis_files/{lang_code}_bert.csv\",\n",
    "        index=False,\n",
    "    )"
   ]
  },
  {
   "cell_type": "code",
   "execution_count": 10,
   "metadata": {},
   "outputs": [],
   "source": [
    "create_analysis_files('semrel_baselines/data/pan/pan_dev.csv', 'bert-base-multilingual-cased', 'pan')"
   ]
  }
 ],
 "metadata": {
  "kernelspec": {
   "display_name": "semrel",
   "language": "python",
   "name": "python3"
  },
  "language_info": {
   "codemirror_mode": {
    "name": "ipython",
    "version": 3
   },
   "file_extension": ".py",
   "mimetype": "text/x-python",
   "name": "python",
   "nbconvert_exporter": "python",
   "pygments_lexer": "ipython3",
   "version": "3.8.18"
  }
 },
 "nbformat": 4,
 "nbformat_minor": 2
}
